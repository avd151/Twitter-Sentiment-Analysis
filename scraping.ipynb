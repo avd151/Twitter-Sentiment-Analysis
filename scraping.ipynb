{
 "cells": [
  {
   "cell_type": "code",
   "execution_count": 2,
   "metadata": {},
   "outputs": [],
   "source": [
    "import tweepy\n",
    "import re\n",
    " \n",
    "from tweepy import OAuthHandler\n",
    " \n",
    "consumer_api_key = 'ruJLYQ735ZEXBn6uo9ecxPCCJ'\n",
    "consumer_api_secret = 'gccvTIH2cLXzsPm7KYtxNljjhSWq8m8XbG1ILZt6DRfiebS2d7' \n",
    "access_token = '1496174770815004672-L0DbAHSWbHSGtRBJqkiB0TYMaOtFrV'\n",
    "access_token_secret ='km03eWKwK97XmjZn3uwBX7tdc5qRLlfD8UgxKPfHlXq98'"
   ]
  },
  {
   "cell_type": "code",
   "execution_count": 8,
   "metadata": {},
   "outputs": [],
   "source": [
    "authorizer = OAuthHandler(consumer_api_key, consumer_api_secret)\n",
    "authorizer.set_access_token(access_token, access_token_secret)\n",
    "api = tweepy.API(authorizer,wait_on_rate_limit=True)"
   ]
  },
  {
   "cell_type": "code",
   "execution_count": 6,
   "metadata": {},
   "outputs": [],
   "source": [
    "api = tweepy.API(authorizer ,timeout=15)\n",
    "\n",
    "all_tweets = []\n",
    "\n",
    "search_query = 'apple'\n",
    "\n",
    "for tweet_object in tweepy.Cursor(api.search_tweets,q=search_query+\" -filter:retweets\",lang='en',result_type='recent').items(200):\n",
    "    all_tweets.append(tweet_object.text)"
   ]
  },
  {
   "cell_type": "code",
   "execution_count": 22,
   "metadata": {},
   "outputs": [],
   "source": [
    "from selenium import webdriver\n",
    "from selenium.webdriver.common.keys import Keys\n",
    "from selenium.webdriver.common.by import By\n",
    "import time\n",
    "\n",
    "class SeleniumClient(object):\n",
    "    def __init__(self):\n",
    "        #Initialization method. \n",
    "        self.chrome_options = webdriver.ChromeOptions()\n",
    "        self.chrome_options.add_argument('--headless')\n",
    "        self.chrome_options.add_argument('--no-sandbox')\n",
    "        self.chrome_options.add_argument('--disable-setuid-sandbox')\n",
    "\n",
    "        # you need to provide the path of chromdriver in your system\n",
    "        self.browser = webdriver.Chrome(r'C:/win32/chromedriver.exe', options=self.chrome_options)\n",
    "\n",
    "        self.base_url = 'https://twitter.com/search?q='\n",
    "\n",
    "    def get_tweets(self, query):\n",
    "        ''' \n",
    "        Function to fetch tweets. \n",
    "        '''\n",
    "        try: \n",
    "            self.browser.get(self.base_url+query)\n",
    "            time.sleep(2)\n",
    "\n",
    "            body = self.browser.find_element(By.TAG_NAME, 'body')\n",
    "\n",
    "            for _ in range(100):\n",
    "                body.send_keys(Keys.PAGE_DOWN)\n",
    "                time.sleep(0.3)\n",
    "\n",
    "            timeline = self.browser.find_element(By.ID, 'timeline')\n",
    "            tweet_nodes = timeline.find_elements(By.CSS_SELECTOR, '.tweet-text')\n",
    "\n",
    "            return pd.DataFrame({'tweets': [tweet_node.text for tweet_node in tweet_nodes]})\n",
    "\n",
    "        except Exception as e: \n",
    "            print(e)\n",
    "            print(\"Selenium - An error occured while fetching tweets.\")"
   ]
  },
  {
   "cell_type": "code",
   "execution_count": 23,
   "metadata": {},
   "outputs": [
    {
     "name": "stderr",
     "output_type": "stream",
     "text": [
      "<ipython-input-22-c278c5e65dc1>:15: DeprecationWarning: executable_path has been deprecated, please pass in a Service object\n",
      "  self.browser = webdriver.Chrome(r'C:/win32/chromedriver.exe', options=self.chrome_options)\n"
     ]
    },
    {
     "name": "stdout",
     "output_type": "stream",
     "text": [
      "Message: no such element: Unable to locate element: {\"method\":\"css selector\",\"selector\":\"[id=\"timeline\"]\"}\n",
      "  (Session info: headless chrome=98.0.4758.102)\n",
      "Stacktrace:\n",
      "Backtrace:\n",
      "\tOrdinal0 [0x00BF69A3+2582947]\n",
      "\tOrdinal0 [0x00B8A6D1+2139857]\n",
      "\tOrdinal0 [0x00A83A98+1063576]\n",
      "\tOrdinal0 [0x00AAFF3E+1244990]\n",
      "\tOrdinal0 [0x00AB013B+1245499]\n",
      "\tOrdinal0 [0x00AD9F52+1417042]\n",
      "\tOrdinal0 [0x00AC8594+1344916]\n",
      "\tOrdinal0 [0x00AD834A+1409866]\n",
      "\tOrdinal0 [0x00AC8366+1344358]\n",
      "\tOrdinal0 [0x00AA5176+1200502]\n",
      "\tOrdinal0 [0x00AA6066+1204326]\n",
      "\tGetHandleVerifier [0x00D9BE02+1675858]\n",
      "\tGetHandleVerifier [0x00E5036C+2414524]\n",
      "\tGetHandleVerifier [0x00C8BB01+560977]\n",
      "\tGetHandleVerifier [0x00C8A8D3+556323]\n",
      "\tOrdinal0 [0x00B9020E+2163214]\n",
      "\tOrdinal0 [0x00B95078+2183288]\n",
      "\tOrdinal0 [0x00B951C0+2183616]\n",
      "\tOrdinal0 [0x00B9EE1C+2223644]\n",
      "\tBaseThreadInitThunk [0x7507FA29+25]\n",
      "\tRtlGetAppContainerNamedObjectPath [0x76F87A7E+286]\n",
      "\tRtlGetAppContainerNamedObjectPath [0x76F87A4E+238]\n",
      "\n",
      "Selenium - An error occured while fetching tweets.\n"
     ]
    }
   ],
   "source": [
    "selenium_client = SeleniumClient()\n",
    "\n",
    "tweets_df = selenium_client.get_tweets('Apple')"
   ]
  },
  {
   "cell_type": "code",
   "execution_count": 13,
   "metadata": {},
   "outputs": [],
   "source": [
    "import time\n",
    "text_query = 'apple'\n",
    "count = 200\n",
    "try:\n",
    " # Creation of query method using parameters\n",
    " tweets = tweepy.Cursor(api.search_tweets,q=text_query).items(count)\n",
    " \n",
    " # Pulling information from tweets iterable object\n",
    "tweets_list = [[tweet.created_at, tweet.id, tweet.text] for tweet in tweets]\n",
    " \n",
    " # Creation of dataframe from tweets list\n",
    " # Add or remove columns as you remove tweet information\n",
    "tweets_df = pd.DataFrame(tweets_list)\n",
    "tweets_df.to_csv('D:/SEM6/DS/dummydataset.csv')\n",
    " \n",
    "except BaseException as e:\n",
    "    time.sleep(3)"
   ]
  },
  {
   "cell_type": "code",
   "execution_count": null,
   "metadata": {},
   "outputs": [],
   "source": []
  },
  {
   "cell_type": "code",
   "execution_count": null,
   "metadata": {},
   "outputs": [],
   "source": []
  }
 ],
 "metadata": {
  "kernelspec": {
   "display_name": "Python 3",
   "language": "python",
   "name": "python3"
  },
  "language_info": {
   "codemirror_mode": {
    "name": "ipython",
    "version": 3
   },
   "file_extension": ".py",
   "mimetype": "text/x-python",
   "name": "python",
   "nbconvert_exporter": "python",
   "pygments_lexer": "ipython3",
   "version": "3.8.3"
  }
 },
 "nbformat": 4,
 "nbformat_minor": 4
}
